{
 "cells": [
  {
   "cell_type": "markdown",
   "id": "640f16e1",
   "metadata": {},
   "source": [
    "sWAP cASE"
   ]
  },
  {
   "cell_type": "code",
   "execution_count": null,
   "id": "249ae31d",
   "metadata": {},
   "outputs": [],
   "source": [
    "def swap_case(s):\n",
    "    new_str= \"\"\n",
    "    for x in s:\n",
    "        if x.isupper():\n",
    "           new_str+= x.lower()\n",
    "        else :\n",
    "            new_str += x.upper()\n",
    "    return new_str        "
   ]
  },
  {
   "cell_type": "markdown",
   "id": "a78ecafe",
   "metadata": {},
   "source": [
    "String Split and Join"
   ]
  },
  {
   "cell_type": "code",
   "execution_count": null,
   "id": "2572899e",
   "metadata": {},
   "outputs": [],
   "source": [
    "def split_and_join(line):\n",
    "    # write your code here\n",
    "    l= line.split()\n",
    "    c= \"-\".join(l)\n",
    "    return c\n",
    "\n",
    "if __name__ == '__main__':\n",
    "    line = input()\n",
    "    result = split_and_join(line)\n",
    "    print(result)"
   ]
  },
  {
   "cell_type": "markdown",
   "id": "ecb2c0af",
   "metadata": {},
   "source": [
    "What's Your Name?"
   ]
  },
  {
   "cell_type": "code",
   "execution_count": null,
   "id": "a4852537",
   "metadata": {},
   "outputs": [],
   "source": [
    "def print_full_name(first, last):\n",
    "    print(\"Hello \" + first + \" \" + last + \"! You just delved into python.\")"
   ]
  },
  {
   "cell_type": "markdown",
   "id": "df84d509",
   "metadata": {},
   "source": [
    "Mutations"
   ]
  },
  {
   "cell_type": "code",
   "execution_count": null,
   "id": "8a3fd0f8",
   "metadata": {},
   "outputs": [],
   "source": [
    "def mutate_string(string, position, character):\n",
    "    string = string[:position] + character + string[position+1:]\n",
    "    return string"
   ]
  },
  {
   "cell_type": "markdown",
   "id": "61bc3186",
   "metadata": {},
   "source": [
    "Find a string"
   ]
  },
  {
   "cell_type": "code",
   "execution_count": null,
   "id": "52db9e66",
   "metadata": {},
   "outputs": [],
   "source": [
    "def count_substring(string, sub_string):\n",
    "    num = 0\n",
    "    for i in range(0, len(string)):\n",
    "        if len(string)-i < len(sub_string):\n",
    "            break\n",
    "        for j in range(0, len(sub_string)):\n",
    "            if string[i+j] != sub_string[j]:\n",
    "                break\n",
    "            if j == len(sub_string)-1:\n",
    "                num += 1             \n",
    "    return num"
   ]
  },
  {
   "cell_type": "markdown",
   "id": "7e29838e",
   "metadata": {},
   "source": [
    "String Validators"
   ]
  },
  {
   "cell_type": "code",
   "execution_count": null,
   "id": "059d17a6",
   "metadata": {},
   "outputs": [],
   "source": [
    "if __name__ == '__main__':\n",
    "    s = input()\n",
    "    print (any([a.isalnum() for a in s]))\n",
    "    print (any([a.isalpha() for a in s]))\n",
    "    print (any([a.isdigit() for a in s]))\n",
    "    print (any([a.islower() for a in s]))\n",
    "    print (any([a.isupper() for a in s]))\n"
   ]
  },
  {
   "cell_type": "markdown",
   "id": "7ff5e114",
   "metadata": {},
   "source": [
    "Text Alignment"
   ]
  },
  {
   "cell_type": "code",
   "execution_count": null,
   "id": "b02a5765",
   "metadata": {},
   "outputs": [],
   "source": [
    "thickness = int(input()) \n",
    "c = 'H'\n",
    "\n",
    "\n",
    "for i in range(thickness):\n",
    "    print((c*i).rjust(thickness-1)+c+(c*i).ljust(thickness-1))\n",
    "\n",
    "\n",
    "for i in range(thickness+1):\n",
    "    print((c*thickness).center(thickness*2)+(c*thickness).center(thickness*6))\n",
    "\n",
    "\n",
    "for i in range((thickness+1)//2):\n",
    "    print((c*thickness*5).center(thickness*6))    \n",
    "\n",
    "\n",
    "for i in range(thickness+1):\n",
    "    print((c*thickness).center(thickness*2)+(c*thickness).center(thickness*6))    \n",
    "\n",
    "for i in range(thickness):\n",
    "    print(((c*(thickness-i-1)).rjust(thickness)+c+(c*(thickness-i-1)).ljust(thickness)).rjust(thickness*6))\n",
    "    \n",
    "    #helped with the solutions\n"
   ]
  },
  {
   "cell_type": "markdown",
   "id": "273ec14e",
   "metadata": {},
   "source": [
    "Text Wrap"
   ]
  },
  {
   "cell_type": "code",
   "execution_count": null,
   "id": "dac0558f",
   "metadata": {},
   "outputs": [],
   "source": [
    "def wrap(string, max_width):\n",
    "    return textwrap.fill(string, max_width)\n",
    "    \n"
   ]
  },
  {
   "cell_type": "markdown",
   "id": "ce1c0f1d",
   "metadata": {},
   "source": [
    "Designer Door Mat"
   ]
  },
  {
   "cell_type": "code",
   "execution_count": null,
   "id": "04114b26",
   "metadata": {},
   "outputs": [],
   "source": [
    "input_list = list(map(int, input().split()))\n",
    "a = \"-\"\n",
    "b = \".|.\"\n",
    "for i in range(0, input_list[0]//2):\n",
    "    print((b*(1 + 2*i)).center(input_list[1], a))\n",
    "\n",
    "print(\"WELCOME\".center(input_list[1], a))\n",
    "\n",
    "for j in range(input_list[0]//2, 0, -1):\n",
    "    print((b*(2*j - 1)).center(input_list[1], a))\n",
    "    #helped with solutions"
   ]
  },
  {
   "cell_type": "markdown",
   "id": "603d7736",
   "metadata": {},
   "source": [
    "String Formatting"
   ]
  },
  {
   "cell_type": "code",
   "execution_count": null,
   "id": "2fe09ca8",
   "metadata": {},
   "outputs": [],
   "source": [
    "def print_formatted(number):\n",
    "    width = len(\"{0:b}\".format(n))\n",
    "    for i in range(1, number+1):\n",
    "        print(\"{0:{width}d} {0:{width}o} {0:{width}X} {0:{width}b}\".format(i, width=width))\n",
    "    # your code goes here\n",
    "\n"
   ]
  },
  {
   "cell_type": "markdown",
   "id": "44c095d3",
   "metadata": {},
   "source": [
    "Capitalize!"
   ]
  },
  {
   "cell_type": "code",
   "execution_count": null,
   "id": "7ef7b303",
   "metadata": {},
   "outputs": [],
   "source": [
    "def solve(s):\n",
    "    list = s.split()\n",
    "    for i in range(0, len(list)):\n",
    "        s = s.replace(list[i], list[i].capitalize(), 1)\n",
    "    return s\n",
    "\n"
   ]
  },
  {
   "cell_type": "markdown",
   "id": "d0d24272",
   "metadata": {},
   "source": [
    "The Minion Game"
   ]
  },
  {
   "cell_type": "code",
   "execution_count": null,
   "id": "8a7a3459",
   "metadata": {},
   "outputs": [],
   "source": [
    "def minion_game(string):\n",
    "    vowels = 'AEIOU'\n",
    "    stuart_pts = 0\n",
    "    kevin_pts = 0\n",
    "    str_len = len(string)\n",
    "    \n",
    "    \n",
    "    for i in range(str_len):\n",
    "        \n",
    "        if string[i] in vowels:\n",
    "            kevin_pts += str_len - i\n",
    "        else:\n",
    "            stuart_pts += str_len - i\n",
    "    \n",
    "    if stuart_pts == kevin_pts:\n",
    "        print(\"Draw\")\n",
    "    elif stuart_pts > kevin_pts:\n",
    "        print(\"Stuart\", stuart_pts)\n",
    "    else:\n",
    "        print(\"Kevin\", kevin_pts)\n",
    "    # your code goes here\n",
    "\n"
   ]
  },
  {
   "cell_type": "markdown",
   "id": "a1b8f420",
   "metadata": {},
   "source": [
    "Merge the Tools!"
   ]
  },
  {
   "cell_type": "code",
   "execution_count": null,
   "id": "ea121db4",
   "metadata": {},
   "outputs": [],
   "source": [
    "def merge_the_tools(string, k):\n",
    "    string_slice_list = []\n",
    "    \n",
    "    string_slice_out = ''\n",
    "    \n",
    "    for i in range(0, len(string), k):\n",
    "        string_slice = string[i:i+k]\n",
    "        string_slice_list.append(string_slice)\n",
    "\n",
    "    for string_slice in string_slice_list:\n",
    "        string_slice_out = ''\n",
    "        for letter in string_slice:\n",
    "            if letter not in string_slice_out:  \n",
    "                string_slice_out += letter\n",
    "        print(string_slice_out)\n",
    "\n",
    "    # your code goes here"
   ]
  }
 ],
 "metadata": {
  "kernelspec": {
   "display_name": "Python 3 (ipykernel)",
   "language": "python",
   "name": "python3"
  },
  "language_info": {
   "codemirror_mode": {
    "name": "ipython",
    "version": 3
   },
   "file_extension": ".py",
   "mimetype": "text/x-python",
   "name": "python",
   "nbconvert_exporter": "python",
   "pygments_lexer": "ipython3",
   "version": "3.9.7"
  }
 },
 "nbformat": 4,
 "nbformat_minor": 5
}
