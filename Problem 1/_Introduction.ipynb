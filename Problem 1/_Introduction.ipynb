{
 "cells": [
  {
   "cell_type": "markdown",
   "id": "1cf48fb9",
   "metadata": {},
   "source": [
    "Say \"Hello, World!\" With Python"
   ]
  },
  {
   "cell_type": "code",
   "execution_count": null,
   "id": "f4160e28",
   "metadata": {},
   "outputs": [],
   "source": [
    "if __name__ == '__main__':\n",
    "    print(\"Hello, World!\")\n"
   ]
  },
  {
   "cell_type": "markdown",
   "id": "dd0e5077",
   "metadata": {},
   "source": [
    "Python If-Else"
   ]
  },
  {
   "cell_type": "code",
   "execution_count": null,
   "id": "68f6066b",
   "metadata": {},
   "outputs": [],
   "source": [
    "import math\n",
    "import os\n",
    "import random\n",
    "import re\n",
    "import sys\n",
    "\n",
    "\n",
    "\n",
    "if __name__ == '__main__':\n",
    "    n = int(input().strip())\n",
    "    if (n%2)==1 :\n",
    "        print (\"Weird\")\n",
    "    elif n%2 == 0 and 2<=n<=5 :\n",
    "        print (\"Not Weird\")\n",
    "    elif n%2 == 0 and 6<=n<=20 :\n",
    "        print(\"Weird\")\n",
    "    else:\n",
    "        print(\"Not Weird\")"
   ]
  },
  {
   "cell_type": "markdown",
   "id": "bb27bcca",
   "metadata": {},
   "source": [
    "Arithmetic Operators"
   ]
  },
  {
   "cell_type": "code",
   "execution_count": null,
   "id": "9daa8896",
   "metadata": {},
   "outputs": [],
   "source": [
    "if __name__ == '__main__':\n",
    "    a = int(input())\n",
    "    b = int(input())\n",
    "    c= a + b\n",
    "    d= a - b\n",
    "    e= a * b\n",
    "    print(c)\n",
    "    print(d)\n",
    "    print(e)\n"
   ]
  },
  {
   "cell_type": "markdown",
   "id": "05c543f7",
   "metadata": {},
   "source": [
    "Python: Division"
   ]
  },
  {
   "cell_type": "code",
   "execution_count": null,
   "id": "a4deb89b",
   "metadata": {},
   "outputs": [],
   "source": [
    "if __name__ == '__main__':\n",
    "    a = int(input())\n",
    "    b = int(input())\n",
    "    c= a//b\n",
    "    d= a/b\n",
    "    print(c)\n",
    "    print(d)\n"
   ]
  },
  {
   "cell_type": "markdown",
   "id": "2366e83c",
   "metadata": {},
   "source": [
    "Loops"
   ]
  },
  {
   "cell_type": "code",
   "execution_count": null,
   "id": "6469310d",
   "metadata": {},
   "outputs": [],
   "source": [
    "if __name__ == '__main__':\n",
    "    n = int(input())\n",
    "    for i in range(0,n):\n",
    "        print(i**2)\n",
    "    \n"
   ]
  },
  {
   "cell_type": "markdown",
   "id": "b34671a1",
   "metadata": {},
   "source": [
    "Write a function"
   ]
  },
  {
   "cell_type": "code",
   "execution_count": null,
   "id": "a1c5a67d",
   "metadata": {},
   "outputs": [],
   "source": [
    "def is_leap(year):\n",
    "    leap = False\n",
    "    if (year%400 == 0)and (year%100==0):\n",
    "        return True\n",
    "    elif (year%4 ==0) and (year%100!=0):\n",
    "        return True\n",
    "    else:\n",
    "        return False\n",
    "    \n",
    "    # Write your logic here\n",
    "    \n",
    "    return leap"
   ]
  },
  {
   "cell_type": "markdown",
   "id": "1866f8e0",
   "metadata": {},
   "source": [
    "Print Function"
   ]
  },
  {
   "cell_type": "code",
   "execution_count": null,
   "id": "4d0281dd",
   "metadata": {},
   "outputs": [],
   "source": [
    "if __name__ == '__main__':\n",
    "    n = int(input())\n",
    "    for i in range(0,n):\n",
    "        i=i+1\n",
    "        print(i,end=\"\")\n",
    "    \n",
    "        "
   ]
  }
 ],
 "metadata": {
  "kernelspec": {
   "display_name": "Python 3 (ipykernel)",
   "language": "python",
   "name": "python3"
  },
  "language_info": {
   "codemirror_mode": {
    "name": "ipython",
    "version": 3
   },
   "file_extension": ".py",
   "mimetype": "text/x-python",
   "name": "python",
   "nbconvert_exporter": "python",
   "pygments_lexer": "ipython3",
   "version": "3.9.7"
  }
 },
 "nbformat": 4,
 "nbformat_minor": 5
}
