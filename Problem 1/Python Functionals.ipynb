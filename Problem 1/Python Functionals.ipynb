{
 "cells": [
  {
   "cell_type": "markdown",
   "id": "3103a057",
   "metadata": {},
   "source": [
    "Map and Lambda Function"
   ]
  },
  {
   "cell_type": "code",
   "execution_count": null,
   "id": "5279c468",
   "metadata": {},
   "outputs": [],
   "source": [
    "cube = lambda x: pow(x,3) # complete the lambda function \n",
    "\n",
    "def fibonacci(n):\n",
    "    fibonacci_list = [0, 1]\n",
    "    i = 2\n",
    "    if n == 0:\n",
    "        return []\n",
    "    elif n == 1:\n",
    "        return [0]\n",
    "    while i < n:\n",
    "        fibonacci_list.append(fibonacci_list[i-2] + fibonacci_list[i-1])\n",
    "        i += 1\n",
    "    return fibonacci_list\n",
    "    # return a list of fibonacci numbers\n",
    "\n"
   ]
  }
 ],
 "metadata": {
  "kernelspec": {
   "display_name": "Python 3 (ipykernel)",
   "language": "python",
   "name": "python3"
  },
  "language_info": {
   "codemirror_mode": {
    "name": "ipython",
    "version": 3
   },
   "file_extension": ".py",
   "mimetype": "text/x-python",
   "name": "python",
   "nbconvert_exporter": "python",
   "pygments_lexer": "ipython3",
   "version": "3.9.7"
  }
 },
 "nbformat": 4,
 "nbformat_minor": 5
}
