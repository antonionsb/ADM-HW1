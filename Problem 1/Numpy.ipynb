{
 "cells": [
  {
   "cell_type": "markdown",
   "id": "61e2422d",
   "metadata": {},
   "source": [
    "Arrays"
   ]
  },
  {
   "cell_type": "code",
   "execution_count": null,
   "id": "51d11dc5",
   "metadata": {},
   "outputs": [],
   "source": [
    "def arrays(arr):\n",
    "    \n",
    "    # complete this function\n",
    "    # use numpy.array\n",
    "    b = numpy.array(arr, float)\n",
    "    return numpy.flip(b,0)\n",
    "\n"
   ]
  },
  {
   "cell_type": "markdown",
   "id": "d9ba4b4e",
   "metadata": {},
   "source": [
    "Shape and Reshape"
   ]
  },
  {
   "cell_type": "code",
   "execution_count": null,
   "id": "2535350e",
   "metadata": {},
   "outputs": [],
   "source": [
    "import numpy\n",
    "\n",
    "\n",
    "\n",
    "a = numpy.array(list(map(int, input().split(\" \"))))\n",
    "b= numpy.reshape(a, (3,3))\n",
    "print(b)\n"
   ]
  },
  {
   "cell_type": "markdown",
   "id": "1ce3b127",
   "metadata": {},
   "source": [
    "Transpose and Flatten"
   ]
  },
  {
   "cell_type": "code",
   "execution_count": null,
   "id": "e93a4cd8",
   "metadata": {},
   "outputs": [],
   "source": [
    "import numpy\n",
    "\n",
    "\n",
    "\n",
    "n, m = map(int, input().split())\n",
    "vec = numpy.array([list(map(int, input().split())) for i in range(n)])\n",
    "\n",
    "print (vec.transpose())\n",
    "print (vec.flatten())\n"
   ]
  },
  {
   "cell_type": "markdown",
   "id": "42b9fd93",
   "metadata": {},
   "source": [
    "Concatenate"
   ]
  },
  {
   "cell_type": "code",
   "execution_count": null,
   "id": "7aa711b7",
   "metadata": {},
   "outputs": [],
   "source": [
    "import numpy\n",
    "\n",
    "\n",
    "\n",
    "n, m, p = map(int, input().split())\n",
    "\n",
    "N= numpy.array([list(map(int, input().split())) for i in range(n)])\n",
    "M = numpy.array([list(map(int, input().split())) for i in range(m)])\n",
    "\n",
    "#concatenate\n",
    "vecOut = numpy.concatenate((N, M), 0)\n",
    "\n",
    "print(vecOut)"
   ]
  },
  {
   "cell_type": "markdown",
   "id": "cfb5eb22",
   "metadata": {},
   "source": [
    "Zeros and Ones"
   ]
  },
  {
   "cell_type": "code",
   "execution_count": null,
   "id": "021be3a2",
   "metadata": {},
   "outputs": [],
   "source": [
    "import numpy\n",
    "\n",
    "\n",
    "\n",
    "dim = tuple(map(int, input().split()))\n",
    "\n",
    "zero = numpy.zeros(dim, dtype = numpy.int)\n",
    "ones = numpy.ones(dim, dtype = numpy.int)\n",
    "\n",
    "\n",
    "print (zero)\n",
    "print (ones)"
   ]
  },
  {
   "cell_type": "markdown",
   "id": "2390e465",
   "metadata": {},
   "source": [
    "Eye and Identity"
   ]
  },
  {
   "cell_type": "code",
   "execution_count": null,
   "id": "71868594",
   "metadata": {},
   "outputs": [],
   "source": [
    "import numpy\n",
    "\n",
    "\n",
    "NM = map(int,input().split())\n",
    "result = str(numpy.eye(*NM)).replace('1',' 1').replace('0',' 0')\n",
    "\n",
    "print(result)\n"
   ]
  },
  {
   "cell_type": "markdown",
   "id": "df83e037",
   "metadata": {},
   "source": [
    "Floor, Ceil and Rint"
   ]
  },
  {
   "cell_type": "code",
   "execution_count": null,
   "id": "32575bdf",
   "metadata": {},
   "outputs": [],
   "source": [
    "import numpy\n",
    "\n",
    "\n",
    "\n",
    "\n",
    "A = numpy.array(input().split(), dtype=float)\n",
    "\n",
    "numpy.set_printoptions(sign=' ')\n",
    "print(numpy.floor(A))\n",
    "print(numpy.ceil(A))\n",
    "print(numpy.rint(A))\n"
   ]
  },
  {
   "cell_type": "markdown",
   "id": "9343a807",
   "metadata": {},
   "source": [
    "Sum and Prod"
   ]
  },
  {
   "cell_type": "code",
   "execution_count": null,
   "id": "cf043afa",
   "metadata": {},
   "outputs": [],
   "source": [
    "import numpy\n",
    "\n",
    "\n",
    "\n",
    "\n",
    "\n",
    "\n",
    "NM = list(map(int, input().split()))\n",
    "arr = numpy.array([input().split() for _ in range(NM[0])],int)\n",
    "\n",
    "sum_arr = numpy.sum(arr, axis=0)\n",
    "prod_arr = numpy.prod(sum_arr, axis=0) \n",
    "\n",
    "print(prod_arr)\n"
   ]
  },
  {
   "cell_type": "markdown",
   "id": "5978ab8c",
   "metadata": {},
   "source": [
    "Min and Max"
   ]
  },
  {
   "cell_type": "code",
   "execution_count": null,
   "id": "9e20dc8e",
   "metadata": {},
   "outputs": [],
   "source": [
    "import numpy\n",
    "\n",
    "lst = [input().split() for i in range(int(input().split()[0]))]\n",
    "\n",
    "arr =  numpy.array(lst,int)\n",
    "\n",
    "min_arr = numpy.min(arr, axis=1)\n",
    "max_arr = numpy.max(min_arr)\n",
    "\n",
    "print(max_arr)\n"
   ]
  },
  {
   "cell_type": "markdown",
   "id": "75ba985b",
   "metadata": {},
   "source": [
    "Dot and Cross"
   ]
  },
  {
   "cell_type": "code",
   "execution_count": null,
   "id": "a881d5be",
   "metadata": {},
   "outputs": [],
   "source": [
    "import numpy\n",
    "\n",
    "\n",
    "\n",
    "n=int(input())\n",
    "\n",
    "a = numpy.array([list(map(int,input().split())) for i in range(n)])\n",
    "b = numpy.array([list(map(int,input().split())) for i in range(n)])\n",
    "    \n",
    "print(numpy.dot(a, b))\n"
   ]
  },
  {
   "cell_type": "markdown",
   "id": "18a97530",
   "metadata": {},
   "source": [
    "Inner and Outer"
   ]
  },
  {
   "cell_type": "code",
   "execution_count": null,
   "id": "19e20984",
   "metadata": {},
   "outputs": [],
   "source": [
    "import numpy\n",
    "\n",
    "\n",
    "\n",
    "a = numpy.array(input().split(), dtype=int)\n",
    "b = numpy.array(input().split(), dtype=int)\n",
    "\n",
    "print(numpy.inner(a, b))\n",
    "print(numpy.outer(a, b))\n"
   ]
  },
  {
   "cell_type": "markdown",
   "id": "7fc21d38",
   "metadata": {},
   "source": [
    "Polynomials"
   ]
  },
  {
   "cell_type": "code",
   "execution_count": null,
   "id": "6c203605",
   "metadata": {},
   "outputs": [],
   "source": [
    "import numpy\n",
    "\n",
    "\n",
    "\n",
    "coeff = list(map(float, input().split()))\n",
    "\n",
    "p = numpy.polyval(coeff, float(input()))\n",
    "print(p)\n"
   ]
  },
  {
   "cell_type": "markdown",
   "id": "b52b4046",
   "metadata": {},
   "source": [
    "Linear Algebra"
   ]
  },
  {
   "cell_type": "code",
   "execution_count": null,
   "id": "bc4d022e",
   "metadata": {},
   "outputs": [],
   "source": [
    "import numpy\n",
    "\n",
    "n = int(input())\n",
    "l = [list(map(float,input().split())) for i in range(n)]\n",
    "\n",
    "a = numpy.array(l)\n",
    "\n",
    "det_arr = round(numpy.linalg.det(a), 2)\n",
    "\n",
    "print(det_arr)"
   ]
  }
 ],
 "metadata": {
  "kernelspec": {
   "display_name": "Python 3 (ipykernel)",
   "language": "python",
   "name": "python3"
  },
  "language_info": {
   "codemirror_mode": {
    "name": "ipython",
    "version": 3
   },
   "file_extension": ".py",
   "mimetype": "text/x-python",
   "name": "python",
   "nbconvert_exporter": "python",
   "pygments_lexer": "ipython3",
   "version": "3.9.7"
  }
 },
 "nbformat": 4,
 "nbformat_minor": 5
}
