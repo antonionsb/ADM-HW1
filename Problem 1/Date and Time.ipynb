{
 "cells": [
  {
   "cell_type": "markdown",
   "id": "42ae66ee",
   "metadata": {},
   "source": [
    "Calendar Module"
   ]
  },
  {
   "cell_type": "code",
   "execution_count": null,
   "id": "5a430f54",
   "metadata": {},
   "outputs": [],
   "source": [
    "import calendar\n",
    "\n",
    "d = list(map(int, input().split()))\n",
    "week = calendar.weekday(d[2], d[0], d[1])\n",
    "day = calendar.day_name[week]\n",
    "print(day.upper())"
   ]
  },
  {
   "cell_type": "markdown",
   "id": "ddf74e54",
   "metadata": {},
   "source": [
    "Time Delta"
   ]
  },
  {
   "cell_type": "code",
   "execution_count": null,
   "id": "fde8e512",
   "metadata": {},
   "outputs": [],
   "source": [
    "import math\n",
    "import os\n",
    "import random\n",
    "import re\n",
    "import sys\n",
    "from datetime import datetime, timedelta\n",
    "# Complete the time_delta function below.\n",
    "def time_delta(t1, t2):\n",
    "\n",
    "    date_str = \"%a %d %b %Y %H:%M:%S %z\"\n",
    "    dt1 = datetime.strptime(t1, date_str)\n",
    "    dt2 = datetime.strptime(t2, date_str)\n",
    "    date_delta = abs(dt1-dt2).total_seconds()\n",
    "    \n",
    "    return str(int(date_delta))\n",
    "\n",
    "    \n",
    "if __name__ == '__main__':\n",
    "    fptr = open(os.environ['OUTPUT_PATH'], 'w')\n",
    "\n",
    "    t = int(input())\n",
    "\n",
    "    for t_itr in range(t):\n",
    "        t1 = input()\n",
    "\n",
    "        t2 = input()\n",
    "\n",
    "        delta = time_delta(t1, t2)\n",
    "\n",
    "        fptr.write(delta + '\\n')\n",
    "\n",
    "    fptr.close()\n"
   ]
  }
 ],
 "metadata": {
  "kernelspec": {
   "display_name": "Python 3 (ipykernel)",
   "language": "python",
   "name": "python3"
  },
  "language_info": {
   "codemirror_mode": {
    "name": "ipython",
    "version": 3
   },
   "file_extension": ".py",
   "mimetype": "text/x-python",
   "name": "python",
   "nbconvert_exporter": "python",
   "pygments_lexer": "ipython3",
   "version": "3.9.7"
  }
 },
 "nbformat": 4,
 "nbformat_minor": 5
}
