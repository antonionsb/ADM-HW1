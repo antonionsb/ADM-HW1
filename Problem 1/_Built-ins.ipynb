{
 "cells": [
  {
   "cell_type": "markdown",
   "id": "1f081dcc",
   "metadata": {},
   "source": [
    "Zipped!"
   ]
  },
  {
   "cell_type": "code",
   "execution_count": null,
   "id": "7767d910",
   "metadata": {},
   "outputs": [],
   "source": [
    "n = list(map(int, input().split()))\n",
    "sub = []\n",
    "\n",
    "for i in range(n[1]):\n",
    "    sub.append(list(map(float,input().split())))\n",
    "    \n",
    "students = zip(*sub)\n",
    "\n",
    "for i in students: \n",
    "    print(sum(i)/len(i))\n"
   ]
  },
  {
   "cell_type": "markdown",
   "id": "ae723620",
   "metadata": {},
   "source": [
    "Athlete Sort"
   ]
  },
  {
   "cell_type": "code",
   "execution_count": null,
   "id": "01f3119d",
   "metadata": {},
   "outputs": [],
   "source": [
    "import math\n",
    "import os\n",
    "import random\n",
    "import re\n",
    "import sys\n",
    "from operator import itemgetter\n",
    "\n",
    "\n",
    "\n",
    "if __name__ == '__main__':\n",
    "    nm = input().split()\n",
    "\n",
    "    n = int(nm[0])\n",
    "\n",
    "    m = int(nm[1])\n",
    "\n",
    "    arr = []\n",
    "\n",
    "    for _ in range(n):\n",
    "        arr.append(list(map(int, input().rstrip().split())))\n",
    "\n",
    "    k = int(input())\n",
    "    arr = sorted(arr, key=itemgetter(k))\n",
    "    \n",
    "    for elem in arr:\n",
    "        print(*elem)\n"
   ]
  },
  {
   "cell_type": "markdown",
   "id": "309f7816",
   "metadata": {},
   "source": [
    "ginortS"
   ]
  },
  {
   "cell_type": "code",
   "execution_count": null,
   "id": "15a0ceb6",
   "metadata": {},
   "outputs": [],
   "source": [
    "S = input()\n",
    "uppercase = ''\n",
    "lowercase = ''\n",
    "odd_digits = ''\n",
    "even_digits = ''\n",
    "\n",
    "for letter in S:\n",
    "    if letter.isupper():\n",
    "        uppercase += letter\n",
    "    if letter.islower():\n",
    "        lowercase += letter\n",
    "    if letter.isdigit():\n",
    "        if int(letter) % 2 == 0:  \n",
    "            even_digits += letter\n",
    "        else:\n",
    "            odd_digits += letter\n",
    "    \n",
    "lowercase, uppercase, odd_digits, even_digits = sorted(lowercase), sorted(uppercase), sorted(odd_digits), sorted(even_digits)\n",
    "\n",
    "result = ''.join(map(str, lowercase + uppercase + odd_digits + even_digits))\n",
    "\n",
    "print(result)\n"
   ]
  }
 ],
 "metadata": {
  "kernelspec": {
   "display_name": "Python 3 (ipykernel)",
   "language": "python",
   "name": "python3"
  },
  "language_info": {
   "codemirror_mode": {
    "name": "ipython",
    "version": 3
   },
   "file_extension": ".py",
   "mimetype": "text/x-python",
   "name": "python",
   "nbconvert_exporter": "python",
   "pygments_lexer": "ipython3",
   "version": "3.9.7"
  }
 },
 "nbformat": 4,
 "nbformat_minor": 5
}
