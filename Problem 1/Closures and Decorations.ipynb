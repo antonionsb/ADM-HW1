{
 "cells": [
  {
   "cell_type": "markdown",
   "id": "f9dbd265",
   "metadata": {},
   "source": [
    "Standardize Mobile Number Using Decorators"
   ]
  },
  {
   "cell_type": "code",
   "execution_count": null,
   "id": "f7759859",
   "metadata": {},
   "outputs": [],
   "source": [
    "def wrapper(f):\n",
    "    def fun(l):\n",
    "        tel_list = []\n",
    "        for tel_num in l:\n",
    "            tel_list.append(\"+91 \"+tel_num[-10:-5]+\" \"+tel_num[-5:])\n",
    "        f(tel_list)\n",
    "        # complete the function\n",
    "    return fun\n",
    "\n"
   ]
  },
  {
   "cell_type": "markdown",
   "id": "6d8b9aae",
   "metadata": {},
   "source": [
    "Decorators 2 - Name Directory"
   ]
  },
  {
   "cell_type": "code",
   "execution_count": null,
   "id": "bf0600e4",
   "metadata": {},
   "outputs": [],
   "source": [
    "from operator import itemgetter\n",
    "def person_lister(f):\n",
    "    def inner(people):\n",
    "        test = []\n",
    "        for person in people:\n",
    "            person[2] = int(person[2])\n",
    "        people.sort(key=itemgetter(2))\n",
    "        return [f(person) for person in people]\n",
    "        # complete the function\n",
    "    return inner"
   ]
  }
 ],
 "metadata": {
  "kernelspec": {
   "display_name": "Python 3 (ipykernel)",
   "language": "python",
   "name": "python3"
  },
  "language_info": {
   "codemirror_mode": {
    "name": "ipython",
    "version": 3
   },
   "file_extension": ".py",
   "mimetype": "text/x-python",
   "name": "python",
   "nbconvert_exporter": "python",
   "pygments_lexer": "ipython3",
   "version": "3.9.7"
  }
 },
 "nbformat": 4,
 "nbformat_minor": 5
}
