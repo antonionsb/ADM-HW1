{
 "cells": [
  {
   "cell_type": "markdown",
   "id": "d99bdfd5",
   "metadata": {},
   "source": [
    "Detect Floating Point Number"
   ]
  },
  {
   "cell_type": "code",
   "execution_count": null,
   "id": "6c6c93e5",
   "metadata": {},
   "outputs": [],
   "source": [
    "import re\n",
    "\n",
    "T = int(input())\n",
    "\n",
    "for _ in range(T):\n",
    "    input_data = input()\n",
    "    result = re.match(r'^[-+]?[0-9]*\\.[0-9]+$', input_data)\n",
    "    print(bool(result))\n"
   ]
  },
  {
   "cell_type": "markdown",
   "id": "ba17160f",
   "metadata": {},
   "source": [
    "Re.split()"
   ]
  },
  {
   "cell_type": "code",
   "execution_count": null,
   "id": "6725ce01",
   "metadata": {},
   "outputs": [],
   "source": [
    "regex_pattern = r\"[,.]+\"\t# Do not delete 'r'."
   ]
  },
  {
   "cell_type": "markdown",
   "id": "3bff5d8d",
   "metadata": {},
   "source": [
    "Group(), Groups() & Groupdict()"
   ]
  },
  {
   "cell_type": "code",
   "execution_count": null,
   "id": "ced83389",
   "metadata": {},
   "outputs": [],
   "source": [
    "import re\n",
    "d = input().strip()\n",
    "regex = re.search(r'([0-9A-Za-z])\\1+', d)\n",
    "print(regex.group(1) if regex else -1)\n"
   ]
  },
  {
   "cell_type": "markdown",
   "id": "2c9ab7fd",
   "metadata": {},
   "source": [
    "Re.findall() & Re.finditer()"
   ]
  },
  {
   "cell_type": "code",
   "execution_count": null,
   "id": "85d10531",
   "metadata": {},
   "outputs": [],
   "source": [
    "import re\n",
    "\n",
    "p = r'(?<=[^aeiouAEIOU])([aeiouAEIOU]{2,})(?=[^aeiouAEIOU])'\n",
    "string = input()\n",
    "\n",
    "m = re.findall(p, string)\n",
    "if not m:\n",
    "    print(-1)\n",
    "for i in m:\n",
    "    print(i)\n"
   ]
  },
  {
   "cell_type": "markdown",
   "id": "82f16626",
   "metadata": {},
   "source": [
    "Re.start() & Re.end()"
   ]
  },
  {
   "cell_type": "code",
   "execution_count": null,
   "id": "9055c023",
   "metadata": {},
   "outputs": [],
   "source": [
    "import re\n",
    "\n",
    "S = input()\n",
    "k = input()\n",
    "\n",
    "pattern = re.compile(k)\n",
    "pattern_search = pattern.search(S)\n",
    "\n",
    "if bool(pattern_search) == False: \n",
    "    print (\"(-1, -1)\")\n",
    "    \n",
    "while pattern_search:\n",
    "    print(\"({0}, {1})\".format(pattern_search.start(), pattern_search.end() - 1))\n",
    "    pattern_search = pattern.search(S, pattern_search.start() + 1)\n"
   ]
  },
  {
   "cell_type": "markdown",
   "id": "93494cec",
   "metadata": {},
   "source": [
    "Validating Roman Numerals"
   ]
  },
  {
   "cell_type": "code",
   "execution_count": null,
   "id": "57c79d8b",
   "metadata": {},
   "outputs": [],
   "source": [
    "regex_pattern = r\"^M{0,3}(CM|CD|D?C{0,3})(XC|XL|L?X{0,3})(IX|IV|V?I{0,3})$\"\t# Do not delete 'r'.\n",
    "\n"
   ]
  },
  {
   "cell_type": "markdown",
   "id": "9a6008ec",
   "metadata": {},
   "source": [
    "Validating phone numbers"
   ]
  },
  {
   "cell_type": "code",
   "execution_count": null,
   "id": "5e23f4b2",
   "metadata": {},
   "outputs": [],
   "source": [
    "import re\n",
    "p = r'^[789]\\d{9}$'\n",
    "\n",
    "n = int(input())\n",
    "\n",
    "for i in range(n):\n",
    "    \n",
    "    tel = str(input())\n",
    "    match = re.findall(p, tel)\n",
    "    \n",
    "    if match:\n",
    "        print(\"YES\")\n",
    "    else:\n",
    "        print(\"NO\")\n"
   ]
  },
  {
   "cell_type": "markdown",
   "id": "101e0d2d",
   "metadata": {},
   "source": [
    "Validating and Parsing Email Addresses"
   ]
  },
  {
   "cell_type": "code",
   "execution_count": null,
   "id": "842a6c1e",
   "metadata": {},
   "outputs": [],
   "source": [
    "import re\n",
    "pattern = r'(<)([A-Za-z0-9])([\\w\\-\\_\\.])+(@)[A-Za-z]+(\\.)[A-Za-z]{1,3}(>)'\n",
    "\n",
    "n = int(input())\n",
    "\n",
    "for i in range(n):\n",
    "    \n",
    "    email = list(map(str,input().split()))\n",
    "    match = re.match(pattern, email[1])\n",
    "    \n",
    "    if match:\n",
    "        print(email[0], email[1])\n",
    "        \n",
    "#helped with solution\n"
   ]
  },
  {
   "cell_type": "markdown",
   "id": "dbc27b6e",
   "metadata": {},
   "source": [
    "Hex Color Code"
   ]
  },
  {
   "cell_type": "code",
   "execution_count": null,
   "id": "de4f9f31",
   "metadata": {},
   "outputs": [],
   "source": [
    "import re\n",
    "pattern = r':?.(#[A-Fa-f0-9]{6}|#[A-Fa-f0-9]{3})'\n",
    "\n",
    "n = int(input())\n",
    "\n",
    "for i in range(n):\n",
    "    \n",
    "    color = str(input())\n",
    "    match = re.findall(pattern, color)\n",
    "    \n",
    "    if match:\n",
    "        print(\"\\n\".join(match))\n"
   ]
  },
  {
   "cell_type": "markdown",
   "id": "5dbae105",
   "metadata": {},
   "source": [
    "HTML Parser - Part 1"
   ]
  },
  {
   "cell_type": "code",
   "execution_count": null,
   "id": "31a83323",
   "metadata": {},
   "outputs": [],
   "source": [
    "from html.parser import HTMLParser\n",
    "\n",
    "# create a subclass and override the handler methods\n",
    "class MyHTMLParser(HTMLParser):\n",
    "    def handle_starttag(self, tag, attrs):        \n",
    "        print ('Start :', tag)\n",
    "        for i in attrs:\n",
    "            print ('->', i[0], '>' , i[1])\n",
    "    def handle_endtag(self, tag):\n",
    "        print ('End   :', tag) \n",
    "    def handle_startendtag(self, tag, attrs):\n",
    "        print ('Empty :', tag)\n",
    "        for i in attrs:\n",
    "            print ('->', i[0], '>', i[1])\n",
    "\n",
    "# instantiate the parser and fed it some HTML\n",
    "parser = MyHTMLParser()\n",
    "parser.feed(''.join([input().strip() for _ in range(int(input()))]))\n"
   ]
  },
  {
   "cell_type": "markdown",
   "id": "55cadc5f",
   "metadata": {},
   "source": [
    "HTML Parser - Part 2"
   ]
  },
  {
   "cell_type": "code",
   "execution_count": null,
   "id": "d8eb1a05",
   "metadata": {},
   "outputs": [],
   "source": [
    "from html.parser import HTMLParser\n",
    "\n",
    "class MyHTMLParser(HTMLParser):\n",
    "    def handle_comment(self, data):\n",
    "        if len(data.split('\\n')) > 1:\n",
    "            print('>>> Multi-line Comment')\n",
    "        else:\n",
    "            print('>>> Single-line Comment')\n",
    "        if data.strip():\n",
    "            print(data)\n",
    "    def handle_data(self, data):\n",
    "        if data.strip():\n",
    "            print(\">>> Data\")\n",
    "            print(data)\n",
    "  \n",
    "html = \"\"       \n",
    "for i in range(int(input())):\n",
    "    html += input().rstrip()\n",
    "    html += '\\n'\n",
    "    \n",
    "parser = MyHTMLParser()\n",
    "parser.feed(html)\n",
    "parser.close()\n"
   ]
  },
  {
   "cell_type": "markdown",
   "id": "599e0063",
   "metadata": {},
   "source": [
    "Detect HTML Tags, Attributes and Attribute Values"
   ]
  },
  {
   "cell_type": "code",
   "execution_count": null,
   "id": "34b86ff6",
   "metadata": {},
   "outputs": [],
   "source": [
    "from html.parser import HTMLParser\n",
    "\n",
    "class MyHTMLParser(HTMLParser):\n",
    "    def handle_starttag(self, tag, attrs):        \n",
    "        print(tag)\n",
    "        for i in attrs:\n",
    "            print('-> {} > {}'.format(*i))\n",
    "\n",
    "parser = MyHTMLParser()\n",
    "parser.feed(''.join([input().strip() for _ in range(int(input()))]))\n",
    "\n",
    "#helped with solutions\n"
   ]
  },
  {
   "cell_type": "markdown",
   "id": "0afe50fb",
   "metadata": {},
   "source": [
    "Validating UID"
   ]
  },
  {
   "cell_type": "code",
   "execution_count": null,
   "id": "a29dd9d6",
   "metadata": {},
   "outputs": [],
   "source": [
    "import re\n",
    "\n",
    "repeat_char = r'(?!.*(.).*\\1)'\n",
    "uppercase = r'(?=(?:.*[A-Z]){2,})'\n",
    "digit = r'(?=(?:.*[0-9]){3,})' #3\n",
    "alphanumeric = r'[a-zA-Z0-9]{10}'\n",
    "\n",
    "\n",
    "pattern = r'^' + repeat_char + uppercase + digit + alphanumeric + r'$'\n",
    "\n",
    "N = int(input())\n",
    "\n",
    "for i in range(N):\n",
    "    \n",
    "    tel = str(input())\n",
    "    match = re.findall(pattern, tel)\n",
    "    \n",
    "    if match:\n",
    "        print(\"Valid\")\n",
    "    else:\n",
    "        print(\"Invalid\")\n"
   ]
  },
  {
   "cell_type": "markdown",
   "id": "83918bb0",
   "metadata": {},
   "source": [
    "Validating Credit Card Numbers"
   ]
  },
  {
   "cell_type": "code",
   "execution_count": null,
   "id": "d7246d91",
   "metadata": {},
   "outputs": [],
   "source": [
    "import re\n",
    "\n",
    "pattern_valid = r\"[456][0-9]{3}(-?[0-9]{4}){3}$\"\n",
    "pattern_repeated = r\"(([0-9])-?(?!(-?\\2){3})){16}\"\n",
    "\n",
    "pattern = r'^$'\n",
    "\n",
    "N = int(input())\n",
    "\n",
    "for i in range(N):\n",
    "    \n",
    "    tel = str(input())\n",
    "    match_card = re.match(pattern_valid, tel)\n",
    "    match_repeats = re.match(pattern_repeated, tel)\n",
    "    \n",
    "    if match_card and match_repeats:\n",
    "        print(\"Valid\")\n",
    "    else:\n",
    "        print(\"Invalid\")\n"
   ]
  },
  {
   "cell_type": "markdown",
   "id": "039dc410",
   "metadata": {},
   "source": [
    "Validating Postal Codes"
   ]
  },
  {
   "cell_type": "code",
   "execution_count": null,
   "id": "7836ae65",
   "metadata": {},
   "outputs": [],
   "source": [
    "regex_integer_in_range = r\"^[1-9][0-9]{5}$\"\t# Do not delete 'r'.\n",
    "regex_alternating_repetitive_digit_pair = r\"([0-9])(?=[0-9]\\1)\"\t# Do not delete 'r'.\n",
    "\n"
   ]
  }
 ],
 "metadata": {
  "kernelspec": {
   "display_name": "Python 3 (ipykernel)",
   "language": "python",
   "name": "python3"
  },
  "language_info": {
   "codemirror_mode": {
    "name": "ipython",
    "version": 3
   },
   "file_extension": ".py",
   "mimetype": "text/x-python",
   "name": "python",
   "nbconvert_exporter": "python",
   "pygments_lexer": "ipython3",
   "version": "3.9.7"
  }
 },
 "nbformat": 4,
 "nbformat_minor": 5
}
