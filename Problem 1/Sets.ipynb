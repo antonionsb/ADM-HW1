{
 "cells": [
  {
   "cell_type": "markdown",
   "id": "3833aebc",
   "metadata": {},
   "source": [
    "Introduction to Sets"
   ]
  },
  {
   "cell_type": "code",
   "execution_count": null,
   "id": "f1fc56a4",
   "metadata": {},
   "outputs": [],
   "source": [
    "def average(array):\n",
    "    return sum(set(array))/len(set(array))\n"
   ]
  },
  {
   "cell_type": "markdown",
   "id": "45ca704c",
   "metadata": {},
   "source": [
    "No Idea!"
   ]
  },
  {
   "cell_type": "code",
   "execution_count": null,
   "id": "4dc9faa7",
   "metadata": {},
   "outputs": [],
   "source": [
    "nm = list(map(int, input().split()))\n",
    "n = list(map(int, input().split()))\n",
    "A = set(map(int, input().split()))\n",
    "B = set(map(int, input().split()))\n",
    "h = 0\n",
    "\n",
    "for i in n:\n",
    "    if i in A:\n",
    "        h += 1\n",
    "    if i in B:\n",
    "        h += -1\n",
    "\n",
    "print(h)"
   ]
  },
  {
   "cell_type": "markdown",
   "id": "8fb624f8",
   "metadata": {},
   "source": [
    "Symmetric Difference"
   ]
  },
  {
   "cell_type": "code",
   "execution_count": null,
   "id": "92bf1a8b",
   "metadata": {},
   "outputs": [],
   "source": [
    "m= input()\n",
    "myset = set(input().split())\n",
    "n = input()\n",
    "nset = set(input().split())\n",
    "\n",
    "mdifference = myset.difference(nset)\n",
    "ndifference = nset.difference(myset)\n",
    "simm_diff = sorted(mdifference.union(ndifference), key=int)\n",
    "\n",
    "for i in simm_diff:\n",
    "    print(i)\n"
   ]
  },
  {
   "cell_type": "markdown",
   "id": "3b31014c",
   "metadata": {},
   "source": [
    "Set .add()"
   ]
  },
  {
   "cell_type": "code",
   "execution_count": null,
   "id": "2af5bc0e",
   "metadata": {},
   "outputs": [],
   "source": [
    "n_set = set()\n",
    "\n",
    "for i in range(int(input())):\n",
    "    n_set.add(input())\n",
    "\n",
    "print(len(n_set))\n"
   ]
  },
  {
   "cell_type": "markdown",
   "id": "8237f453",
   "metadata": {},
   "source": [
    "Set .union() Operation"
   ]
  },
  {
   "cell_type": "code",
   "execution_count": null,
   "id": "9058cf9a",
   "metadata": {},
   "outputs": [],
   "source": [
    "a = input()\n",
    "aset = set(map(int, input().split()))\n",
    "c = input()\n",
    "cset = set(map(int, input().split()))\n",
    "\n",
    "print(len(aset.union(cset)))\n"
   ]
  },
  {
   "cell_type": "markdown",
   "id": "d7d6b1fc",
   "metadata": {},
   "source": [
    "Set .intersection() Operation"
   ]
  },
  {
   "cell_type": "code",
   "execution_count": null,
   "id": "666ac385",
   "metadata": {},
   "outputs": [],
   "source": [
    "a = input()\n",
    "aset = set(input().split())\n",
    "k = input()\n",
    "kset = set(input().split())\n",
    "\n",
    "print(len(aset.intersection(kset)))\n"
   ]
  },
  {
   "cell_type": "markdown",
   "id": "e2faf6fe",
   "metadata": {},
   "source": [
    "Set .difference() Operation"
   ]
  },
  {
   "cell_type": "code",
   "execution_count": null,
   "id": "d3d44701",
   "metadata": {},
   "outputs": [],
   "source": [
    "a = input()\n",
    "aset = set(input().split())\n",
    "b = input()\n",
    "bset = set(input().split())\n",
    "\n",
    "print(len(aset.difference(bset)))\n"
   ]
  },
  {
   "cell_type": "markdown",
   "id": "715ba24d",
   "metadata": {},
   "source": [
    "Set .symmetric_difference() Operation"
   ]
  },
  {
   "cell_type": "code",
   "execution_count": null,
   "id": "88673a09",
   "metadata": {},
   "outputs": [],
   "source": [
    "a = input()\n",
    "aset = set(input().split())\n",
    "b = input()\n",
    "bset = set(input().split())\n",
    "\n",
    "print(len(aset.symmetric_difference(bset)))\n"
   ]
  },
  {
   "cell_type": "markdown",
   "id": "5f5b5332",
   "metadata": {},
   "source": [
    "Set Mutations"
   ]
  },
  {
   "cell_type": "code",
   "execution_count": null,
   "id": "44a07583",
   "metadata": {},
   "outputs": [],
   "source": [
    "n = int(input())\n",
    "s = set(map(int, input().split()))\n",
    "cmd_num = int(input())\n",
    "\n",
    "for i in range(cmd_num):\n",
    "    \n",
    "    tmp_cmd = list(input().split())\n",
    "    tmp_set = set(map(int, input().split()))\n",
    "    \n",
    "    if(tmp_cmd[0] == \"intersection_update\"):\n",
    "        s.intersection_update(tmp_set)\n",
    "    elif(tmp_cmd[0] == \"update\"):\n",
    "        s.update(tmp_set)\n",
    "    elif(tmp_cmd[0] == \"symmetric_difference_update\"):\n",
    "        s.symmetric_difference_update(tmp_set)\n",
    "    elif(tmp_cmd[0] == \"difference_update\"):\n",
    "        s.difference_update(tmp_set)\n",
    "\n",
    "print(sum(s))\n",
    "\n",
    "#helped with solution\n"
   ]
  },
  {
   "cell_type": "markdown",
   "id": "f2bdd048",
   "metadata": {},
   "source": [
    "The Captain's Room"
   ]
  },
  {
   "cell_type": "code",
   "execution_count": null,
   "id": "908a0297",
   "metadata": {},
   "outputs": [],
   "source": [
    "K = int(input())\n",
    "r = sorted(input().split())\n",
    "r.append([-1,-1,-1,-1]) \n",
    "i = 0\n",
    "\n",
    "while i <= len(r):\n",
    "    if r[i] == r[i+1]:\n",
    "        i += K\n",
    "    else:\n",
    "        print(r[i])\n",
    "        break\n"
   ]
  },
  {
   "cell_type": "markdown",
   "id": "0067f4de",
   "metadata": {},
   "source": [
    "Check Subset"
   ]
  },
  {
   "cell_type": "code",
   "execution_count": null,
   "id": "a652c625",
   "metadata": {},
   "outputs": [],
   "source": [
    "T = int(input())\n",
    "\n",
    "for i in range(T):\n",
    "    A = int(input())\n",
    "    aset = set(map(int, input().split()))\n",
    "    B = int(input())\n",
    "    bset = set(map(int, input().split()))\n",
    "    print(bool(aset.issubset(bset)))\n"
   ]
  },
  {
   "cell_type": "markdown",
   "id": "1e23616c",
   "metadata": {},
   "source": [
    "Check Strict Superset"
   ]
  },
  {
   "cell_type": "code",
   "execution_count": null,
   "id": "2afd3966",
   "metadata": {},
   "outputs": [],
   "source": [
    "aset = set(map(int, input().split()))\n",
    "n= int(input())\n",
    "uperset = True\n",
    "\n",
    "for i in range(n):\n",
    "    bset = set(map(int, input().split()))\n",
    "    if bool(aset.issuperset(bset)) == False:\n",
    "        superset = False\n",
    "        break\n",
    "print(superset)"
   ]
  },
  {
   "cell_type": "markdown",
   "id": "78fceaba",
   "metadata": {},
   "source": []
  }
 ],
 "metadata": {
  "kernelspec": {
   "display_name": "Python 3 (ipykernel)",
   "language": "python",
   "name": "python3"
  },
  "language_info": {
   "codemirror_mode": {
    "name": "ipython",
    "version": 3
   },
   "file_extension": ".py",
   "mimetype": "text/x-python",
   "name": "python",
   "nbconvert_exporter": "python",
   "pygments_lexer": "ipython3",
   "version": "3.9.7"
  }
 },
 "nbformat": 4,
 "nbformat_minor": 5
}
