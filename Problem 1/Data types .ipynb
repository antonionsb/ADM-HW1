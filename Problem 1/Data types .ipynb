{
 "cells": [
  {
   "cell_type": "markdown",
   "id": "c21cd977",
   "metadata": {},
   "source": [
    "List Comprehensions"
   ]
  },
  {
   "cell_type": "code",
   "execution_count": null,
   "id": "9c88bfa0",
   "metadata": {},
   "outputs": [],
   "source": [
    "if __name__ == '__main__':\n",
    "    x = int(input())\n",
    "    y = int(input())\n",
    "    z = int(input())\n",
    "    n = int(input())\n",
    "    cuboid=[]\n",
    "    l=[]\n",
    "    for x in range(x+1):\n",
    "        for y in range(y+1):\n",
    "            for z in range(z+1):\n",
    "                if x+y+z !=n:\n",
    "                    l=[x,y,z]\n",
    "                    cuboid.append(l)\n",
    "print(cuboid)\n",
    "        \n"
   ]
  },
  {
   "cell_type": "markdown",
   "id": "3e6e53bc",
   "metadata": {},
   "source": [
    "Find the Runner-Up Score!"
   ]
  },
  {
   "cell_type": "code",
   "execution_count": null,
   "id": "0d2d91eb",
   "metadata": {},
   "outputs": [],
   "source": [
    "if __name__ == '__main__':\n",
    "    n = int(input())\n",
    "    arr = map(int, input().split())\n",
    "    l=list(arr)\n",
    "    print(sorted(set(l))[-2])\n",
    "    "
   ]
  },
  {
   "cell_type": "markdown",
   "id": "8c2b2723",
   "metadata": {},
   "source": [
    "Finding the percentage"
   ]
  },
  {
   "cell_type": "code",
   "execution_count": null,
   "id": "6fce68b5",
   "metadata": {},
   "outputs": [],
   "source": [
    "if __name__ == '__main__':\n",
    "    n = int(input())\n",
    "    student_marks = {}\n",
    "    for _ in range(n):\n",
    "        name, *line = input().split()\n",
    "        scores = list(map(float, line))\n",
    "        student_marks[name] = scores\n",
    "    query_name = input()\n",
    "    \n",
    "    selected = student_marks[query_name]\n",
    "    selectedaverage = sum(selected)/len(selected)\n",
    "        \n",
    "    print(format(selectedaverage, '.2f'))\n"
   ]
  },
  {
   "cell_type": "markdown",
   "id": "57923d89",
   "metadata": {},
   "source": [
    "Lists"
   ]
  },
  {
   "cell_type": "code",
   "execution_count": null,
   "id": "76938ad3",
   "metadata": {},
   "outputs": [],
   "source": [
    "if __name__ == '__main__':\n",
    "    N = int(input())\n",
    "    l = []\n",
    "    for i in range(N):\n",
    "        i = input().split()\n",
    "        if i[0] == \"insert\":\n",
    "            l.insert(int(i[1]), int(i[2]))\n",
    "        \n",
    "        elif i [0] == \"remove\":\n",
    "            l.remove(int(i[1]))\n",
    "        elif i [0] == \"append\":\n",
    "            l.append(int(i[1]))\n",
    "        elif i [0] == \"sort\":\n",
    "            l.sort()\n",
    "        elif i [0] == \"pop\":\n",
    "            l.pop()\n",
    "        elif i [0] == \"reverse\":\n",
    "            l.reverse()\n",
    "        else:\n",
    "            print(l)\n",
    "            \n",
    "        #helped with solutions"
   ]
  },
  {
   "cell_type": "markdown",
   "id": "0e7032f8",
   "metadata": {},
   "source": [
    "Tuples"
   ]
  },
  {
   "cell_type": "code",
   "execution_count": null,
   "id": "1dd179f3",
   "metadata": {},
   "outputs": [],
   "source": [
    "if __name__ == '__main__':\n",
    "    n = int(input())\n",
    "    integer_list = map(int, input().split())\n",
    "    tuple = tuple(integer_list)\n",
    "    print(hash(tuple))\n"
   ]
  },
  {
   "cell_type": "code",
   "execution_count": null,
   "id": "8e132aca",
   "metadata": {},
   "outputs": [],
   "source": []
  }
 ],
 "metadata": {
  "kernelspec": {
   "display_name": "Python 3 (ipykernel)",
   "language": "python",
   "name": "python3"
  },
  "language_info": {
   "codemirror_mode": {
    "name": "ipython",
    "version": 3
   },
   "file_extension": ".py",
   "mimetype": "text/x-python",
   "name": "python",
   "nbconvert_exporter": "python",
   "pygments_lexer": "ipython3",
   "version": "3.9.7"
  }
 },
 "nbformat": 4,
 "nbformat_minor": 5
}
