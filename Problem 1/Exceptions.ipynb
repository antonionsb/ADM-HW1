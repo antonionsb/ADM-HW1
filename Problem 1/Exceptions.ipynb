{
 "cells": [
  {
   "cell_type": "markdown",
   "id": "2fbc2e5f",
   "metadata": {},
   "source": [
    "Exceptions"
   ]
  },
  {
   "cell_type": "code",
   "execution_count": null,
   "id": "5ca64850",
   "metadata": {},
   "outputs": [],
   "source": [
    "N = int(input())\n",
    "\n",
    "for i in range(N):\n",
    "    try:\n",
    "        nlist = input().split()\n",
    "        print(int(nlist[0]) // int(nlist[1]))\n",
    "        \n",
    "    except Exception as e:\n",
    "        print(\"Error Code:\", e)\n"
   ]
  }
 ],
 "metadata": {
  "kernelspec": {
   "display_name": "Python 3 (ipykernel)",
   "language": "python",
   "name": "python3"
  },
  "language_info": {
   "codemirror_mode": {
    "name": "ipython",
    "version": 3
   },
   "file_extension": ".py",
   "mimetype": "text/x-python",
   "name": "python",
   "nbconvert_exporter": "python",
   "pygments_lexer": "ipython3",
   "version": "3.9.7"
  }
 },
 "nbformat": 4,
 "nbformat_minor": 5
}
