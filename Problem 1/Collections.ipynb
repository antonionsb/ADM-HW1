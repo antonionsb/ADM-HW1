{
 "cells": [
  {
   "cell_type": "markdown",
   "id": "194cc2aa",
   "metadata": {},
   "source": [
    "collections.Counter()"
   ]
  },
  {
   "cell_type": "code",
   "execution_count": null,
   "id": "2d60372c",
   "metadata": {},
   "outputs": [],
   "source": [
    "from collections import Counter\n",
    "\n",
    "shoes = int(input())\n",
    "shoeshop = Counter(map(int, input().split()))\n",
    "num = int(input())\n",
    "tot = 0\n",
    "\n",
    "for i in range(num):\n",
    "    shoe = list(map(int, input().split()))\n",
    "    if shoeshop[shoe[0]]: \n",
    "        tot += shoe[1]\n",
    "        shoeshop[shoe[0]] += -1\n",
    "\n",
    "print(tot)\n"
   ]
  },
  {
   "cell_type": "markdown",
   "id": "23b80c99",
   "metadata": {},
   "source": [
    "DefaultDict Tutorial"
   ]
  },
  {
   "cell_type": "code",
   "execution_count": null,
   "id": "88e0379d",
   "metadata": {},
   "outputs": [],
   "source": [
    "from collections import defaultdict\n",
    "\n",
    "nm = list(map(int, input().split()))\n",
    "adict = defaultdict(list)\n",
    "\n",
    "for i in range(0, nm[0]):\n",
    "    adict[input()].append(str(i+1))\n",
    "\n",
    "for i in range(nm[1]):\n",
    "    string = \" \".join(adict[input()])\n",
    "    if string:\n",
    "        print(string)\n",
    "    else:\n",
    "        print(-1)\n"
   ]
  },
  {
   "cell_type": "markdown",
   "id": "e5f65c67",
   "metadata": {},
   "source": [
    "Collections.OrderedDict()"
   ]
  },
  {
   "cell_type": "code",
   "execution_count": null,
   "id": "5c44e4e8",
   "metadata": {},
   "outputs": [],
   "source": [
    "from collections import OrderedDict\n",
    "\n",
    "items = OrderedDict()\n",
    "\n",
    "N = int(input())\n",
    "\n",
    "for i in range(N):\n",
    "    data = input().rsplit(' ', 1)\n",
    "    items[data[0]] = items.get(data[0], 0) + int(data[1])\n",
    "\n",
    "for key, value in items.items():\n",
    "    print(key, value)\n"
   ]
  },
  {
   "cell_type": "markdown",
   "id": "08644a6a",
   "metadata": {},
   "source": [
    "Word Order"
   ]
  },
  {
   "cell_type": "code",
   "execution_count": null,
   "id": "303b983f",
   "metadata": {},
   "outputs": [],
   "source": [
    "from collections import Counter\n",
    "\n",
    "m= int(input())\n",
    "words = []\n",
    "\n",
    "for i in range(m):\n",
    "    words.append(input())\n",
    "\n",
    "counter = Counter(words)\n",
    "\n",
    "print(len(counter))\n",
    "print(*counter.values())\n"
   ]
  },
  {
   "cell_type": "markdown",
   "id": "b16d35fd",
   "metadata": {},
   "source": [
    "Collections.deque()"
   ]
  },
  {
   "cell_type": "code",
   "execution_count": null,
   "id": "a1d38032",
   "metadata": {},
   "outputs": [],
   "source": [
    "from collections import deque\n",
    "\n",
    "d = deque()\n",
    "N = int(input())\n",
    "\n",
    "for i in range(N):\n",
    "    cmd = input().split()\n",
    "    if cmd[0] == 'append':\n",
    "        d.append(cmd[1])\n",
    "    if cmd[0] == 'appendleft':\n",
    "        d.appendleft(cmd[1])\n",
    "    if cmd[0] == 'pop':\n",
    "        d.pop()\n",
    "    if cmd[0] == 'popleft':\n",
    "        d.popleft()\n",
    "        \n",
    "print(*d)\n"
   ]
  },
  {
   "cell_type": "markdown",
   "id": "5d95f499",
   "metadata": {},
   "source": [
    "Company Logo"
   ]
  },
  {
   "cell_type": "code",
   "execution_count": null,
   "id": "be2d0d62",
   "metadata": {},
   "outputs": [],
   "source": [
    "import math\n",
    "import os\n",
    "import random\n",
    "import re\n",
    "import sys\n",
    "from collections import Counter\n",
    "\n",
    "\n",
    "if __name__ == '__main__':\n",
    "    s = sorted(input())\n",
    "\n",
    "    company = Counter(s)\n",
    "    common = company.most_common()\n",
    "\n",
    "    for i in range(3):\n",
    "        print(*common[i])\n",
    "    \n"
   ]
  },
  {
   "cell_type": "markdown",
   "id": "afdca1bb",
   "metadata": {},
   "source": [
    "Piling Up!"
   ]
  },
  {
   "cell_type": "code",
   "execution_count": null,
   "id": "41454102",
   "metadata": {},
   "outputs": [],
   "source": [
    "from collections import deque\n",
    "T = int(input())\n",
    "\n",
    "for i in range(T):\n",
    "    lenght = int(input())\n",
    "    dlist = list(map(int, input().split()))\n",
    "    d = deque(dlist)\n",
    "    dsorted = reversed(sorted(d))\n",
    "    \n",
    "    \n",
    "    for j in dsorted:\n",
    "        if d[-1] == j: \n",
    "            d.pop()\n",
    "        elif d[0] == j: \n",
    "            d.popleft()\n",
    "        else:\n",
    "            print('No')\n",
    "            break\n",
    "    else: \n",
    "        print('Yes')\n"
   ]
  }
 ],
 "metadata": {
  "kernelspec": {
   "display_name": "Python 3 (ipykernel)",
   "language": "python",
   "name": "python3"
  },
  "language_info": {
   "codemirror_mode": {
    "name": "ipython",
    "version": 3
   },
   "file_extension": ".py",
   "mimetype": "text/x-python",
   "name": "python",
   "nbconvert_exporter": "python",
   "pygments_lexer": "ipython3",
   "version": "3.9.7"
  }
 },
 "nbformat": 4,
 "nbformat_minor": 5
}
